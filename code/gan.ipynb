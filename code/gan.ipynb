version https://git-lfs.github.com/spec/v1
oid sha256:c5f3d88e73eb80cb839ee7c33a86be1ea23cc91a1ce2635a66bf347aa55837c2
size 15567
