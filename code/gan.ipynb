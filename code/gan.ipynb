version https://git-lfs.github.com/spec/v1
oid sha256:bd23c9e05635550ead4e4bbb96ed999ce064b9bae86fe4ec1c1e6f76d2a430de
size 67147367
