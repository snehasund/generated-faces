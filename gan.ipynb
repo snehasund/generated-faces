{
 "cells": [
  {
   "cell_type": "code",
   "execution_count": 2,
   "metadata": {},
   "outputs": [
    {
     "name": "stdout",
     "output_type": "stream",
     "text": [
      "Defaulting to user installation because normal site-packages is not writeable\n",
      "Collecting pytorch\n",
      "  Downloading pytorch-1.0.2.tar.gz (689 bytes)\n",
      "Requirement already satisfied: matplotlib in /Users/snehasundar/Library/Python/3.9/lib/python/site-packages (from -r requirements.txt (line 2)) (3.9.0)\n",
      "Requirement already satisfied: tqdm in /Users/snehasundar/Library/Python/3.9/lib/python/site-packages (from -r requirements.txt (line 3)) (4.66.4)\n",
      "Collecting torchvision\n",
      "  Downloading torchvision-0.18.1-cp39-cp39-macosx_11_0_arm64.whl (1.6 MB)\n",
      "\u001b[K     |████████████████████████████████| 1.6 MB 3.9 MB/s eta 0:00:01\n",
      "\u001b[?25hRequirement already satisfied: contourpy>=1.0.1 in /Users/snehasundar/Library/Python/3.9/lib/python/site-packages (from matplotlib->-r requirements.txt (line 2)) (1.2.1)\n",
      "Requirement already satisfied: numpy>=1.23 in /Users/snehasundar/Library/Python/3.9/lib/python/site-packages (from matplotlib->-r requirements.txt (line 2)) (1.26.4)\n",
      "Requirement already satisfied: pillow>=8 in /Users/snehasundar/Library/Python/3.9/lib/python/site-packages (from matplotlib->-r requirements.txt (line 2)) (10.3.0)\n",
      "Requirement already satisfied: pyparsing>=2.3.1 in /Users/snehasundar/Library/Python/3.9/lib/python/site-packages (from matplotlib->-r requirements.txt (line 2)) (3.1.2)\n",
      "Requirement already satisfied: kiwisolver>=1.3.1 in /Users/snehasundar/Library/Python/3.9/lib/python/site-packages (from matplotlib->-r requirements.txt (line 2)) (1.4.5)\n",
      "Requirement already satisfied: python-dateutil>=2.7 in /Users/snehasundar/Library/Python/3.9/lib/python/site-packages (from matplotlib->-r requirements.txt (line 2)) (2.9.0.post0)\n",
      "Requirement already satisfied: cycler>=0.10 in /Users/snehasundar/Library/Python/3.9/lib/python/site-packages (from matplotlib->-r requirements.txt (line 2)) (0.12.1)\n",
      "Requirement already satisfied: importlib-resources>=3.2.0 in /Users/snehasundar/Library/Python/3.9/lib/python/site-packages (from matplotlib->-r requirements.txt (line 2)) (6.4.0)\n",
      "Requirement already satisfied: fonttools>=4.22.0 in /Users/snehasundar/Library/Python/3.9/lib/python/site-packages (from matplotlib->-r requirements.txt (line 2)) (4.53.0)\n",
      "Requirement already satisfied: packaging>=20.0 in /Users/snehasundar/Library/Python/3.9/lib/python/site-packages (from matplotlib->-r requirements.txt (line 2)) (24.1)\n",
      "Collecting torch==2.3.1\n",
      "  Downloading torch-2.3.1-cp39-none-macosx_11_0_arm64.whl (61.0 MB)\n",
      "\u001b[K     |████████████████████████████████| 61.0 MB 5.8 MB/s eta 0:00:01\n",
      "\u001b[?25hRequirement already satisfied: jinja2 in /Users/snehasundar/Library/Python/3.9/lib/python/site-packages (from torch==2.3.1->torchvision->-r requirements.txt (line 4)) (3.1.4)\n",
      "Collecting fsspec\n",
      "  Downloading fsspec-2024.6.0-py3-none-any.whl (176 kB)\n",
      "\u001b[K     |████████████████████████████████| 176 kB 7.3 MB/s eta 0:00:01\n",
      "\u001b[?25hRequirement already satisfied: networkx in /Users/snehasundar/Library/Python/3.9/lib/python/site-packages (from torch==2.3.1->torchvision->-r requirements.txt (line 4)) (3.2.1)\n",
      "Collecting filelock\n",
      "  Downloading filelock-3.15.1-py3-none-any.whl (15 kB)\n",
      "Collecting sympy\n",
      "  Downloading sympy-1.12.1-py3-none-any.whl (5.7 MB)\n",
      "\u001b[K     |████████████████████████████████| 5.7 MB 4.5 MB/s eta 0:00:01\n",
      "\u001b[?25hRequirement already satisfied: typing-extensions>=4.8.0 in /Users/snehasundar/Library/Python/3.9/lib/python/site-packages (from torch==2.3.1->torchvision->-r requirements.txt (line 4)) (4.12.2)\n",
      "Requirement already satisfied: zipp>=3.1.0 in /Users/snehasundar/Library/Python/3.9/lib/python/site-packages (from importlib-resources>=3.2.0->matplotlib->-r requirements.txt (line 2)) (3.19.2)\n",
      "Requirement already satisfied: six>=1.5 in /Library/Developer/CommandLineTools/Library/Frameworks/Python3.framework/Versions/3.9/lib/python3.9/site-packages (from python-dateutil>=2.7->matplotlib->-r requirements.txt (line 2)) (1.15.0)\n",
      "Requirement already satisfied: MarkupSafe>=2.0 in /Users/snehasundar/Library/Python/3.9/lib/python/site-packages (from jinja2->torch==2.3.1->torchvision->-r requirements.txt (line 4)) (2.1.5)\n",
      "Collecting mpmath<1.4.0,>=1.1.0\n",
      "  Downloading mpmath-1.3.0-py3-none-any.whl (536 kB)\n",
      "\u001b[K     |████████████████████████████████| 536 kB 6.3 MB/s eta 0:00:01\n",
      "\u001b[?25hBuilding wheels for collected packages: pytorch\n",
      "  Building wheel for pytorch (setup.py) ... \u001b[?25lerror\n",
      "\u001b[31m  ERROR: Command errored out with exit status 1:\n",
      "   command: /Library/Developer/CommandLineTools/usr/bin/python3 -u -c 'import io, os, sys, setuptools, tokenize; sys.argv[0] = '\"'\"'/private/var/folders/mz/2zw1gjvs1p93ftdnzz9nfkz80000gn/T/pip-install-g499o6pm/pytorch_97c0da1e061d4e6f89ae75479a1b2a73/setup.py'\"'\"'; __file__='\"'\"'/private/var/folders/mz/2zw1gjvs1p93ftdnzz9nfkz80000gn/T/pip-install-g499o6pm/pytorch_97c0da1e061d4e6f89ae75479a1b2a73/setup.py'\"'\"';f = getattr(tokenize, '\"'\"'open'\"'\"', open)(__file__) if os.path.exists(__file__) else io.StringIO('\"'\"'from setuptools import setup; setup()'\"'\"');code = f.read().replace('\"'\"'\\r\\n'\"'\"', '\"'\"'\\n'\"'\"');f.close();exec(compile(code, __file__, '\"'\"'exec'\"'\"'))' bdist_wheel -d /private/var/folders/mz/2zw1gjvs1p93ftdnzz9nfkz80000gn/T/pip-wheel-y2h3af6w\n",
      "       cwd: /private/var/folders/mz/2zw1gjvs1p93ftdnzz9nfkz80000gn/T/pip-install-g499o6pm/pytorch_97c0da1e061d4e6f89ae75479a1b2a73/\n",
      "  Complete output (5 lines):\n",
      "  Traceback (most recent call last):\n",
      "    File \"<string>\", line 1, in <module>\n",
      "    File \"/private/var/folders/mz/2zw1gjvs1p93ftdnzz9nfkz80000gn/T/pip-install-g499o6pm/pytorch_97c0da1e061d4e6f89ae75479a1b2a73/setup.py\", line 15, in <module>\n",
      "      raise Exception(message)\n",
      "  Exception: You tried to install \"pytorch\". The package named for PyTorch is \"torch\"\n",
      "  ----------------------------------------\u001b[0m\n",
      "\u001b[31m  ERROR: Failed building wheel for pytorch\u001b[0m\n",
      "\u001b[?25h  Running setup.py clean for pytorch\n",
      "Failed to build pytorch\n",
      "Installing collected packages: mpmath, sympy, fsspec, filelock, torch, torchvision, pytorch\n",
      "    Running setup.py install for pytorch ... \u001b[?25lerror\n",
      "\u001b[31m    ERROR: Command errored out with exit status 1:\n",
      "     command: /Library/Developer/CommandLineTools/usr/bin/python3 -u -c 'import io, os, sys, setuptools, tokenize; sys.argv[0] = '\"'\"'/private/var/folders/mz/2zw1gjvs1p93ftdnzz9nfkz80000gn/T/pip-install-g499o6pm/pytorch_97c0da1e061d4e6f89ae75479a1b2a73/setup.py'\"'\"'; __file__='\"'\"'/private/var/folders/mz/2zw1gjvs1p93ftdnzz9nfkz80000gn/T/pip-install-g499o6pm/pytorch_97c0da1e061d4e6f89ae75479a1b2a73/setup.py'\"'\"';f = getattr(tokenize, '\"'\"'open'\"'\"', open)(__file__) if os.path.exists(__file__) else io.StringIO('\"'\"'from setuptools import setup; setup()'\"'\"');code = f.read().replace('\"'\"'\\r\\n'\"'\"', '\"'\"'\\n'\"'\"');f.close();exec(compile(code, __file__, '\"'\"'exec'\"'\"'))' install --record /private/var/folders/mz/2zw1gjvs1p93ftdnzz9nfkz80000gn/T/pip-record-oe6krtj6/install-record.txt --single-version-externally-managed --user --prefix= --compile --install-headers /Users/snehasundar/Library/Python/3.9/include/python3.9/pytorch\n",
      "         cwd: /private/var/folders/mz/2zw1gjvs1p93ftdnzz9nfkz80000gn/T/pip-install-g499o6pm/pytorch_97c0da1e061d4e6f89ae75479a1b2a73/\n",
      "    Complete output (5 lines):\n",
      "    Traceback (most recent call last):\n",
      "      File \"<string>\", line 1, in <module>\n",
      "      File \"/private/var/folders/mz/2zw1gjvs1p93ftdnzz9nfkz80000gn/T/pip-install-g499o6pm/pytorch_97c0da1e061d4e6f89ae75479a1b2a73/setup.py\", line 11, in <module>\n",
      "        raise Exception(message)\n",
      "    Exception: You tried to install \"pytorch\". The package named for PyTorch is \"torch\"\n",
      "    ----------------------------------------\u001b[0m\n",
      "\u001b[?25h\u001b[31mERROR: Command errored out with exit status 1: /Library/Developer/CommandLineTools/usr/bin/python3 -u -c 'import io, os, sys, setuptools, tokenize; sys.argv[0] = '\"'\"'/private/var/folders/mz/2zw1gjvs1p93ftdnzz9nfkz80000gn/T/pip-install-g499o6pm/pytorch_97c0da1e061d4e6f89ae75479a1b2a73/setup.py'\"'\"'; __file__='\"'\"'/private/var/folders/mz/2zw1gjvs1p93ftdnzz9nfkz80000gn/T/pip-install-g499o6pm/pytorch_97c0da1e061d4e6f89ae75479a1b2a73/setup.py'\"'\"';f = getattr(tokenize, '\"'\"'open'\"'\"', open)(__file__) if os.path.exists(__file__) else io.StringIO('\"'\"'from setuptools import setup; setup()'\"'\"');code = f.read().replace('\"'\"'\\r\\n'\"'\"', '\"'\"'\\n'\"'\"');f.close();exec(compile(code, __file__, '\"'\"'exec'\"'\"'))' install --record /private/var/folders/mz/2zw1gjvs1p93ftdnzz9nfkz80000gn/T/pip-record-oe6krtj6/install-record.txt --single-version-externally-managed --user --prefix= --compile --install-headers /Users/snehasundar/Library/Python/3.9/include/python3.9/pytorch Check the logs for full command output.\u001b[0m\n",
      "\u001b[33mWARNING: You are using pip version 21.2.4; however, version 24.0 is available.\n",
      "You should consider upgrading via the '/Library/Developer/CommandLineTools/usr/bin/python3 -m pip install --upgrade pip' command.\u001b[0m\n",
      "Note: you may need to restart the kernel to use updated packages.\n"
     ]
    }
   ],
   "source": [
    "pip install -r requirements.txt"
   ]
  },
  {
   "cell_type": "code",
   "execution_count": null,
   "metadata": {},
   "outputs": [],
   "source": [
    "import torch\n",
    "from torch import nn\n",
    "from tqdm.auto import tqdm\n",
    "from torchvision import transforms\n",
    "from torchvision.datasets import CelebA # Training dataset\n",
    "from torchvision.utils import make_grid\n",
    "from torch.utils.data import DataLoader\n",
    "import matplotlib.pyplot as plt\n",
    "torch.manual_seed(0) # Set for testing purposes, please do not change!  "
   ]
  },
  {
   "cell_type": "code",
   "execution_count": null,
   "metadata": {},
   "outputs": [],
   "source": [
    "def show_tensor_images(image_tensor, num_images=25, size=(3, 64, 64)):\n",
    "    '''\n",
    "    Function for visualizing images: Given a tensor of images, number of images, and\n",
    "    size per image, plots and prints the images in a uniform grid.\n",
    "    '''\n",
    "    image_unflat = image_tensor.detach().cpu().view(-1, *size)\n",
    "    image_grid = make_grid(image_unflat[:num_images], nrow=5)\n",
    "    plt.imshow(image_grid.permute(1, 2, 0).squeeze())\n",
    "    plt.axis('off')  # Hide axes for better visualization\n",
    "    plt.show()"
   ]
  },
  {
   "cell_type": "code",
   "execution_count": null,
   "metadata": {},
   "outputs": [],
   "source": [
    "def get_generator_block(input_dim, output_dim):\n",
    "    '''\n",
    "    Function for returning a block of the generator's neural network\n",
    "    given input and output dimensions.\n",
    "    Parameters:\n",
    "        input_dim: the dimension of the input vector, a scalar\n",
    "        output_dim: the dimension of the output vector, a scalar\n",
    "    Returns:\n",
    "        a generator neural network layer, with a linear transformation \n",
    "          followed by a batch normalization and then a relu activation\n",
    "    '''\n",
    "    return nn.Sequential(\n",
    "        nn.Linear(input_dim, output_dim),\n",
    "        nn.BatchNorm1d(output_dim),\n",
    "        nn.ReLU(inplace=True)\n",
    "    )"
   ]
  },
  {
   "cell_type": "code",
   "execution_count": null,
   "metadata": {},
   "outputs": [],
   "source": [
    "# build the generator class"
   ]
  }
 ],
 "metadata": {
  "kernelspec": {
   "display_name": "Python 3",
   "language": "python",
   "name": "python3"
  },
  "language_info": {
   "codemirror_mode": {
    "name": "ipython",
    "version": 3
   },
   "file_extension": ".py",
   "mimetype": "text/x-python",
   "name": "python",
   "nbconvert_exporter": "python",
   "pygments_lexer": "ipython3",
   "version": "3.9.6"
  }
 },
 "nbformat": 4,
 "nbformat_minor": 2
}
